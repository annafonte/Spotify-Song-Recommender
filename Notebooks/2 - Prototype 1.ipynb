{
 "cells": [
  {
   "cell_type": "markdown",
   "metadata": {},
   "source": [
    "#### Importing libraries and reading files"
   ]
  },
  {
   "cell_type": "code",
   "execution_count": 1,
   "metadata": {},
   "outputs": [],
   "source": [
    "import pandas as pd\n",
    "import random"
   ]
  },
  {
   "cell_type": "code",
   "execution_count": 2,
   "metadata": {},
   "outputs": [],
   "source": [
    "top_100_songs = pd.read_csv(\"../Datasets/top_hot_100.csv\")"
   ]
  },
  {
   "cell_type": "code",
   "execution_count": 3,
   "metadata": {},
   "outputs": [],
   "source": [
    "top_100_songs[\"name\"] = top_100_songs[\"name\"].apply(lambda x: x.lower())\n",
    "top_100_songs[\"artist\"] = top_100_songs[\"artist\"].apply(lambda x: x.lower())"
   ]
  },
  {
   "cell_type": "code",
   "execution_count": 112,
   "metadata": {},
   "outputs": [
    {
     "name": "stdout",
     "output_type": "stream",
     "text": [
      "Write down a song or artist to get a recommendation: 24k goldn\n",
      "Sorry, we cannot make any recommendations of this song yet. Try with another hot song or artist:\n",
      "Write down a song or artist to get a recommendation: savege\n",
      "Sorry, we cannot make any recommendations of this song yet. Try with another hot song or artist:\n",
      "Write down a song or artist to get a recommendation: savage love\n",
      "Sorry, we cannot make any recommendations of this song yet. Try with another hot song or artist:\n",
      "Write down a song or artist to get a recommendation: caramelo\n",
      "You may also like this song:  Mood Swings from Luke Combs\n",
      "Thanks for using the music recommender.\n"
     ]
    }
   ],
   "source": [
    "for song in top_100_songs[[\"name\",\"artist\"]].iterrows():\n",
    "    user_input = input(\"Write down a song or artist to get a recommendation: \")\n",
    "    if user_input.lower() in list(top_100_songs[\"name\"]):\n",
    "        random_song = random.choice(top_100_songs[\"name\"]).title()\n",
    "        song_artist = top_100_songs.loc[top_100_songs[\"name\"] == random.choice(top_100_songs[\"name\"]), \"artist\"].values[0]\n",
    "        \n",
    "        print(\"You may also like this song: \", random_song, \"from\", song_artist.title())\n",
    "        print(\"Thanks for using the music recommender.\")\n",
    "        break\n",
    "    elif user_input.lower() in list(top_100_songs[\"artist\"]) or top_100_songs[\"artist\"].str.contains(user_input).any():\n",
    "        print(\"You may also like this artist: \", random.choice(top_100_songs[\"artist\"]).title())\n",
    "        print(\"Thanks for using the music recommender.\")\n",
    "        break\n",
    "    elif user_input not in top_100_songs[[\"name\",\"artist\"]].iterrows():\n",
    "        print(\"Sorry, we cannot make any recommendations of this song yet. Try with another hot song or artist:\")\n",
    "        continue"
   ]
  }
 ],
 "metadata": {
  "kernelspec": {
   "display_name": "Python 3",
   "language": "python",
   "name": "python3"
  },
  "language_info": {
   "codemirror_mode": {
    "name": "ipython",
    "version": 3
   },
   "file_extension": ".py",
   "mimetype": "text/x-python",
   "name": "python",
   "nbconvert_exporter": "python",
   "pygments_lexer": "ipython3",
   "version": "3.8.3"
  }
 },
 "nbformat": 4,
 "nbformat_minor": 4
}
