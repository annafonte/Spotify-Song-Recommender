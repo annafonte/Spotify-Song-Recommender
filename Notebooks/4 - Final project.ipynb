{
 "cells": [
  {
   "cell_type": "markdown",
   "metadata": {},
   "source": [
    "### Importing libraries and dataframes"
   ]
  },
  {
   "cell_type": "code",
   "execution_count": 2,
   "metadata": {},
   "outputs": [],
   "source": [
    "import json\n",
    "import pandas as pd\n",
    "import spotipy\n",
    "from spotipy.oauth2 import SpotifyClientCredentials\n",
    "from sklearn.preprocessing import StandardScaler\n",
    "from sklearn.cluster import KMeans\n",
    "import random\n",
    "import time\n",
    "import sys"
   ]
  },
  {
   "cell_type": "code",
   "execution_count": 3,
   "metadata": {},
   "outputs": [],
   "source": [
    "playlist_df = pd.read_csv(\"../Datasets/playlist_df.csv\")\n",
    "features_scaled = pd.read_csv(\"../Datasets/features_scales_df.csv\")\n",
    "top_100_songs = pd.read_csv(\"../Datasets/top_hot_100.csv\")\n",
    "features_playlist = pd.read_csv(\"../Datasets/features_playlist.csv\")"
   ]
  },
  {
   "cell_type": "markdown",
   "metadata": {},
   "source": [
    "### Authentication"
   ]
  },
  {
   "cell_type": "code",
   "execution_count": 4,
   "metadata": {},
   "outputs": [],
   "source": [
    "spotify = spotipy.Spotify(client_credentials_manager=SpotifyClientCredentials(\n",
    "    client_id='84728f97b7bd4d948b3f9d1c3105f9f0',\n",
    "    client_secret='a9506255e5e3422fa20da88022c48c30'))"
   ]
  },
  {
   "cell_type": "markdown",
   "metadata": {},
   "source": [
    "### Scaling and clustering the songs"
   ]
  },
  {
   "cell_type": "code",
   "execution_count": 5,
   "metadata": {},
   "outputs": [],
   "source": [
    "scaler = StandardScaler()\n",
    "features_playlist = playlist_df.iloc[:,4:17]\n",
    "scaler.fit(features_playlist)\n",
    "features_scaled = scaler.transform(features_playlist)\n",
    "features_scaled_df = pd.DataFrame(features_scaled)"
   ]
  },
  {
   "cell_type": "code",
   "execution_count": 6,
   "metadata": {},
   "outputs": [],
   "source": [
    "kmeans = KMeans()\n",
    "kmeans.fit(features_scaled)\n",
    "clusters = kmeans.predict(features_scaled)\n",
    "playlist_df[\"cluster\"]=clusters"
   ]
  },
  {
   "cell_type": "code",
   "execution_count": 7,
   "metadata": {},
   "outputs": [],
   "source": [
    "def extract_uri(query):\n",
    "    results=spotify.search(q=query, limit=10)\n",
    "    uri=results[\"tracks\"][\"items\"][0][\"uri\"]\n",
    "    song_audio_features = spotify.audio_features(uri)\n",
    "    return song_audio_features\n"
   ]
  },
  {
   "cell_type": "code",
   "execution_count": 11,
   "metadata": {
    "scrolled": false
   },
   "outputs": [
    {
     "name": "stdout",
     "output_type": "stream",
     "text": [
      "Write down a song to get a recommendation: mood\n",
      "This song is HOT! Wait to get another hot song recommended...\n",
      "You may also like the song:  \u001b[1m Holy \u001b[0;0m from the artist \u001b[1m Cardi B Featuring Megan Thee Stallion \u001b[0;0m\n",
      "Thanks for using the music recommender.\n"
     ]
    }
   ],
   "source": [
    "top_100_songs[\"name\"] = top_100_songs[\"name\"].apply(lambda x: x.lower())\n",
    "top_100_songs[\"artist\"] = top_100_songs[\"artist\"].apply(lambda x: x.lower())\n",
    "\n",
    "for song in top_100_songs[[\"name\",\"artist\"]].iterrows():\n",
    "    user_input = input(\"Write down a song to get a recommendation: \")\n",
    "    if user_input.lower() in list(top_100_songs[\"name\"]):\n",
    "        print(\"This song is HOT! Wait to get another hot song recommended...\")\n",
    "        random_song = random.choice(top_100_songs[\"name\"]).title()\n",
    "        song_artist = top_100_songs.loc[top_100_songs[\"name\"] == random.choice(top_100_songs[\"name\"]), \"artist\"].values[0].title()\n",
    "        time.sleep(3)\n",
    "        print(\"You may also like the song: \", \"\\033[1m\", random_song, \"\\033[0;0m\", \"from the artist\", \"\\033[1m\", song_artist, \"\\033[0;0m\")\n",
    "        print(\"Thanks for using the music recommender.\")\n",
    "        break\n",
    "    else:\n",
    "        print(\"This song is not hot, but wait to get a recommendation based on the audio features of the song...\")\n",
    "        uri_user_input = extract_uri(user_input)\n",
    "        df_user_input = pd.DataFrame(uri_user_input)\n",
    "        df_user_input.drop(df_user_input.columns[[11,12,13,14,15]], axis = 1, inplace = True)\n",
    "        scaler.fit(df_user_input)\n",
    "        song_scaled = scaler.transform(df_user_input)\n",
    "        song_cluster = kmeans.predict(song_scaled)\n",
    "        input_cluster = song_cluster[0]\n",
    "        match = playlist_df.loc[playlist_df[\"cluster\"] == input_cluster]\n",
    "        title = match.sample()[\"names\"].values[0]\n",
    "        playlist_df['artists_clean']=playlist_df['artists'].astype(str)\n",
    "        artist = playlist_df[playlist_df[\"names\"]==title][\"artists_clean\"].values[0]\n",
    "        song_uri = playlist_df[playlist_df[\"names\"]==title][\"uri\"].values[0]\n",
    "        song_url = song_uri.strip(\"spotify/.\").replace(\":\", \"/\")\n",
    "        time.sleep(1)\n",
    "\n",
    "        print(\"We recommend you the song\", \"\\033[1m\", title.title(), \"\\033[0;0m\", \"from the artist\", \"\\033[1m\", artist.replace(\",\", \" &\").replace(\"[\",\"\").replace(\"]\",\"\").replace(\"'\",\"\"), \"\\033[0;0m\")\n",
    "        print(\"You can listen to the song here:\", \"http://open.spotify.com\" + song_url)\n",
    "        time.sleep(2)\n",
    "        print(\"Thanks for using the music recommender.\")\n",
    "        break"
   ]
  },
  {
   "cell_type": "code",
   "execution_count": null,
   "metadata": {},
   "outputs": [],
   "source": []
  }
 ],
 "metadata": {
  "kernelspec": {
   "display_name": "Python 3",
   "language": "python",
   "name": "python3"
  },
  "language_info": {
   "codemirror_mode": {
    "name": "ipython",
    "version": 3
   },
   "file_extension": ".py",
   "mimetype": "text/x-python",
   "name": "python",
   "nbconvert_exporter": "python",
   "pygments_lexer": "ipython3",
   "version": "3.8.3"
  }
 },
 "nbformat": 4,
 "nbformat_minor": 4
}
