{
 "cells": [
  {
   "cell_type": "markdown",
   "metadata": {},
   "source": [
    "### Importing libraries"
   ]
  },
  {
   "cell_type": "code",
   "execution_count": 3,
   "metadata": {},
   "outputs": [],
   "source": [
    "import json\n",
    "import pandas as pd\n",
    "import spotipy\n",
    "from spotipy.oauth2 import SpotifyClientCredentials\n",
    "from sklearn.preprocessing import StandardScaler\n",
    "from sklearn.cluster import KMeans"
   ]
  },
  {
   "cell_type": "code",
   "execution_count": 4,
   "metadata": {},
   "outputs": [],
   "source": [
    "spotify = spotipy.Spotify(client_credentials_manager=SpotifyClientCredentials(\n",
    "    client_id='id',\n",
    "    client_secret='secret'))"
   ]
  },
  {
   "cell_type": "markdown",
   "metadata": {},
   "source": [
    "### Defining a function for analyzing playlists"
   ]
  },
  {
   "cell_type": "code",
   "execution_count": 9,
   "metadata": {},
   "outputs": [],
   "source": [
    "def playlist_analyzer(user, playlist_id):    \n",
    "    names = []\n",
    "    uris = []\n",
    "    artists = []\n",
    "    popularity = []\n",
    "    danceability = []\n",
    "    energy = []\n",
    "    key = []\n",
    "    loudness = []\n",
    "    mode = []\n",
    "    speechiness = []\n",
    "    acousticness = []\n",
    "    instrumentalness =[]\n",
    "    liveness=[]\n",
    "    valence = []\n",
    "    tempo =[]\n",
    "    duration_ms =[]\n",
    "    time_signature =[]\n",
    "    playlist = spotify.user_playlist_tracks(user=user, playlist_id=playlist_id)\n",
    "    tracks = playlist['items']\n",
    "    \n",
    "    while playlist['next']:\n",
    "        playlist = spotify.next(playlist)\n",
    "        tracks.extend(playlist['items'])\n",
    "   \n",
    "    for item in tracks:\n",
    "        names.append(item[\"track\"][\"name\"])\n",
    "        uri = item[\"track\"][\"uri\"]\n",
    "        uris.append(uri)\n",
    "        popularity.append(item[\"track\"][\"popularity\"])\n",
    "        artists.append([artist[\"name\"] for artist in item[\"track\"][\"artists\"]])\n",
    "        features = spotify.audio_features(uri)[0]\n",
    "        danceability.append(features[\"danceability\"])\n",
    "        energy.append(features[\"energy\"])\n",
    "        key.append(features[\"key\"])\n",
    "        loudness.append(features[\"loudness\"])\n",
    "        mode.append(features[\"mode\"])\n",
    "        speechiness.append(features[\"speechiness\"])\n",
    "        acousticness.append(features[\"acousticness\"])\n",
    "        instrumentalness.append(features[\"instrumentalness\"])\n",
    "        liveness.append(features[\"liveness\"])\n",
    "        valence.append(features[\"valence\"])\n",
    "        tempo.append(features[\"tempo\"])\n",
    "        duration_ms.append(features[\"duration_ms\"])\n",
    "        time_signature.append(features[\"time_signature\"])\n",
    "\n",
    "    df = pd.DataFrame({\"names\":names, \n",
    "                      \"uri\": uris,\n",
    "                      \"artists\": artists,\n",
    "                      \"popularity\": popularity,\n",
    "                        \"danceability\":danceability,\n",
    "                       \"energy\":energy,\n",
    "                       \"key\": key,\n",
    "                       \"loudness\":loudness,\n",
    "                       \"mode\": mode,\n",
    "                       \"speechiness\":speechiness,\n",
    "                       \"acousticness\":acousticness,\n",
    "                       \"instrumentalness\":instrumentalness,\n",
    "                       \"liveness\": liveness,\n",
    "                       \"valence\":valence,\n",
    "                       \"tempo\": tempo,\n",
    "                       \"duration_ms\":duration_ms,\n",
    "                       \"time_signature\": time_signature})\n",
    "\n",
    "    return df"
   ]
  },
  {
   "cell_type": "markdown",
   "metadata": {},
   "source": [
    "### Getting data from long playlists"
   ]
  },
  {
   "cell_type": "code",
   "execution_count": 30,
   "metadata": {},
   "outputs": [],
   "source": [
    "df1 = playlist_analyzer(\"spotify\", \"spotify:playlist:6FKDzNYZ8IW1pvYVF4zUN2\")"
   ]
  },
  {
   "cell_type": "code",
   "execution_count": 26,
   "metadata": {},
   "outputs": [],
   "source": [
    "df2 = playlist_analyzer(\"spotify\", \"spotify:playlist:3goXIN5tAZrFw2gm2wrMlO\")"
   ]
  },
  {
   "cell_type": "code",
   "execution_count": 13,
   "metadata": {},
   "outputs": [],
   "source": [
    "df3 = playlist_analyzer(\"spotify\", \"spotify:playlist:532F1h299qKD894BlPfJJF\")"
   ]
  },
  {
   "cell_type": "code",
   "execution_count": 29,
   "metadata": {},
   "outputs": [],
   "source": [
    "df4 = playlist_analyzer(\"spotify\", \"spotify:playlist:32twOqGf8gIswTgzG3IKxP\")"
   ]
  },
  {
   "cell_type": "code",
   "execution_count": 16,
   "metadata": {},
   "outputs": [],
   "source": [
    "df5 = playlist_analyzer(\"spotify\", \"spotify:playlist:5bZOu1Yz2Xsd3ZB2HFumrv\")"
   ]
  },
  {
   "cell_type": "code",
   "execution_count": 25,
   "metadata": {},
   "outputs": [],
   "source": [
    "df6 = playlist_analyzer(\"spotify\", \"spotify:playlist:4p4dEXRcGSE0IkSUyCeO8h\")"
   ]
  },
  {
   "cell_type": "code",
   "execution_count": 20,
   "metadata": {},
   "outputs": [],
   "source": [
    "df7 = playlist_analyzer(\"spotify\", \"spotify:playlist:5Y4rSfjF23SUR4NG50pzsL\")"
   ]
  },
  {
   "cell_type": "code",
   "execution_count": 21,
   "metadata": {},
   "outputs": [],
   "source": [
    "df8 = playlist_analyzer(\"spotify\", \"spotify:playlist:1XhVM7jWPrGLTiNiAy97Za\")"
   ]
  },
  {
   "cell_type": "code",
   "execution_count": 22,
   "metadata": {},
   "outputs": [],
   "source": [
    "df9 = playlist_analyzer(\"spotify\", \"spotify:playlist:3nHIMwsBWQnUKkJOEMrGfk\")"
   ]
  },
  {
   "cell_type": "code",
   "execution_count": 23,
   "metadata": {},
   "outputs": [],
   "source": [
    "df10 = playlist_analyzer(\"spotify\", \"spotify:playlist:6COQUh7Ea221hI5mufpMoX\")"
   ]
  },
  {
   "cell_type": "code",
   "execution_count": 31,
   "metadata": {},
   "outputs": [],
   "source": [
    "df11 = playlist_analyzer(\"spotify\", \"spotify:playlist:0RA4vJlNcWkp9bjkjm8DS1\")"
   ]
  },
  {
   "cell_type": "code",
   "execution_count": 2,
   "metadata": {
    "collapsed": true
   },
   "outputs": [
    {
     "ename": "NameError",
     "evalue": "name 'pd' is not defined",
     "output_type": "error",
     "traceback": [
      "\u001b[0;31m---------------------------------------------------------------------------\u001b[0m",
      "\u001b[0;31mNameError\u001b[0m                                 Traceback (most recent call last)",
      "\u001b[0;32m<ipython-input-2-09388e85eacb>\u001b[0m in \u001b[0;36m<module>\u001b[0;34m\u001b[0m\n\u001b[0;32m----> 1\u001b[0;31m \u001b[0mplaylist_df\u001b[0m \u001b[0;34m=\u001b[0m \u001b[0mpd\u001b[0m\u001b[0;34m.\u001b[0m\u001b[0mconcat\u001b[0m\u001b[0;34m(\u001b[0m\u001b[0;34m[\u001b[0m\u001b[0mdf1\u001b[0m\u001b[0;34m,\u001b[0m \u001b[0mdf2\u001b[0m\u001b[0;34m,\u001b[0m \u001b[0mdf3\u001b[0m\u001b[0;34m,\u001b[0m \u001b[0mdf4\u001b[0m\u001b[0;34m,\u001b[0m \u001b[0mdf5\u001b[0m\u001b[0;34m,\u001b[0m \u001b[0mdf6\u001b[0m\u001b[0;34m,\u001b[0m \u001b[0mdf7\u001b[0m\u001b[0;34m,\u001b[0m \u001b[0mdf8\u001b[0m\u001b[0;34m,\u001b[0m \u001b[0mdf9\u001b[0m\u001b[0;34m,\u001b[0m \u001b[0mdf10\u001b[0m\u001b[0;34m,\u001b[0m \u001b[0mdf11\u001b[0m\u001b[0;34m]\u001b[0m\u001b[0;34m,\u001b[0m \u001b[0mignore_index\u001b[0m \u001b[0;34m=\u001b[0m \u001b[0;32mTrue\u001b[0m\u001b[0;34m)\u001b[0m\u001b[0;34m\u001b[0m\u001b[0;34m\u001b[0m\u001b[0m\n\u001b[0m",
      "\u001b[0;31mNameError\u001b[0m: name 'pd' is not defined"
     ]
    }
   ],
   "source": [
    "playlist_df = pd.concat([df1, df2, df3, df4, df5, df6, df7, df8, df9, df10, df11], ignore_index = True)"
   ]
  },
  {
   "cell_type": "code",
   "execution_count": 1,
   "metadata": {
    "collapsed": true
   },
   "outputs": [
    {
     "ename": "NameError",
     "evalue": "name 'playlist_df' is not defined",
     "output_type": "error",
     "traceback": [
      "\u001b[0;31m---------------------------------------------------------------------------\u001b[0m",
      "\u001b[0;31mNameError\u001b[0m                                 Traceback (most recent call last)",
      "\u001b[0;32m<ipython-input-1-ef752c7765d2>\u001b[0m in \u001b[0;36m<module>\u001b[0;34m\u001b[0m\n\u001b[0;32m----> 1\u001b[0;31m \u001b[0mplaylist_df\u001b[0m\u001b[0;34m\u001b[0m\u001b[0;34m\u001b[0m\u001b[0m\n\u001b[0m",
      "\u001b[0;31mNameError\u001b[0m: name 'playlist_df' is not defined"
     ]
    }
   ],
   "source": [
    "playlist_df"
   ]
  },
  {
   "cell_type": "code",
   "execution_count": 36,
   "metadata": {},
   "outputs": [],
   "source": [
    "features_playlist = playlist_df.iloc[:,4:17]"
   ]
  },
  {
   "cell_type": "markdown",
   "metadata": {},
   "source": [
    "## Transforming data and creating clusters of the playlist dataframe"
   ]
  },
  {
   "cell_type": "code",
   "execution_count": 5,
   "metadata": {},
   "outputs": [
    {
     "ename": "NameError",
     "evalue": "name 'features_playlist' is not defined",
     "output_type": "error",
     "traceback": [
      "\u001b[0;31m---------------------------------------------------------------------------\u001b[0m",
      "\u001b[0;31mNameError\u001b[0m                                 Traceback (most recent call last)",
      "\u001b[0;32m<ipython-input-5-1e8fbff1b61b>\u001b[0m in \u001b[0;36m<module>\u001b[0;34m\u001b[0m\n\u001b[1;32m      1\u001b[0m \u001b[0;31m# Initialize the model, fit and transform data\u001b[0m\u001b[0;34m\u001b[0m\u001b[0;34m\u001b[0m\u001b[0;34m\u001b[0m\u001b[0m\n\u001b[1;32m      2\u001b[0m \u001b[0mscaler\u001b[0m \u001b[0;34m=\u001b[0m \u001b[0mStandardScaler\u001b[0m\u001b[0;34m(\u001b[0m\u001b[0;34m)\u001b[0m\u001b[0;34m\u001b[0m\u001b[0;34m\u001b[0m\u001b[0m\n\u001b[0;32m----> 3\u001b[0;31m \u001b[0mscaler\u001b[0m\u001b[0;34m.\u001b[0m\u001b[0mfit\u001b[0m\u001b[0;34m(\u001b[0m\u001b[0mfeatures_playlist\u001b[0m\u001b[0;34m)\u001b[0m\u001b[0;34m\u001b[0m\u001b[0;34m\u001b[0m\u001b[0m\n\u001b[0m\u001b[1;32m      4\u001b[0m \u001b[0mfeatures_scaled\u001b[0m \u001b[0;34m=\u001b[0m \u001b[0mscaler\u001b[0m\u001b[0;34m.\u001b[0m\u001b[0mtransform\u001b[0m\u001b[0;34m(\u001b[0m\u001b[0mfeatures_playlist\u001b[0m\u001b[0;34m)\u001b[0m\u001b[0;34m\u001b[0m\u001b[0;34m\u001b[0m\u001b[0m\n\u001b[1;32m      5\u001b[0m \u001b[0mfeatures_scaled_df\u001b[0m \u001b[0;34m=\u001b[0m \u001b[0mpd\u001b[0m\u001b[0;34m.\u001b[0m\u001b[0mDataFrame\u001b[0m\u001b[0;34m(\u001b[0m\u001b[0mfeatures_scaled\u001b[0m\u001b[0;34m)\u001b[0m\u001b[0;34m\u001b[0m\u001b[0;34m\u001b[0m\u001b[0m\n",
      "\u001b[0;31mNameError\u001b[0m: name 'features_playlist' is not defined"
     ]
    }
   ],
   "source": [
    "# Initialize the model, fit and transform data\n",
    "scaler = StandardScaler()\n",
    "scaler.fit(features_playlist)\n",
    "features_scaled = scaler.transform(features_playlist)\n",
    "features_scaled_df = pd.DataFrame(features_scaled)"
   ]
  },
  {
   "cell_type": "code",
   "execution_count": 1,
   "metadata": {},
   "outputs": [
    {
     "ename": "NameError",
     "evalue": "name 'features_scaled_df' is not defined",
     "output_type": "error",
     "traceback": [
      "\u001b[0;31m---------------------------------------------------------------------------\u001b[0m",
      "\u001b[0;31mNameError\u001b[0m                                 Traceback (most recent call last)",
      "\u001b[0;32m<ipython-input-1-ac6d49d68a75>\u001b[0m in \u001b[0;36m<module>\u001b[0;34m\u001b[0m\n\u001b[0;32m----> 1\u001b[0;31m \u001b[0mfeatures_scaled_df\u001b[0m\u001b[0;34m\u001b[0m\u001b[0;34m\u001b[0m\u001b[0m\n\u001b[0m",
      "\u001b[0;31mNameError\u001b[0m: name 'features_scaled_df' is not defined"
     ]
    }
   ],
   "source": [
    "features_scaled_df"
   ]
  },
  {
   "cell_type": "markdown",
   "metadata": {},
   "source": [
    "#### KMeans"
   ]
  },
  {
   "cell_type": "code",
   "execution_count": 41,
   "metadata": {},
   "outputs": [],
   "source": [
    "# Initializing the model, fit and predict clusters\n",
    "kmeans = KMeans()\n",
    "kmeans.fit(features_scaled)\n",
    "clusters = kmeans.predict(features_scaled)\n",
    "playlist_df[\"cluster\"]=clusters"
   ]
  },
  {
   "cell_type": "code",
   "execution_count": 44,
   "metadata": {
    "collapsed": true
   },
   "outputs": [
    {
     "data": {
      "text/plain": [
       "0     7718\n",
       "1    12972\n",
       "2     9893\n",
       "3     5447\n",
       "4     2411\n",
       "5     8816\n",
       "6     6582\n",
       "7     3073\n",
       "dtype: int64"
      ]
     },
     "execution_count": 44,
     "metadata": {},
     "output_type": "execute_result"
    }
   ],
   "source": [
    "# Check the size of the clusters\n",
    "pd.Series(clusters).value_counts().sort_index()"
   ]
  },
  {
   "cell_type": "markdown",
   "metadata": {},
   "source": [
    "#### Exporting the tables to csv"
   ]
  },
  {
   "cell_type": "code",
   "execution_count": null,
   "metadata": {},
   "outputs": [],
   "source": [
    "features_playlist.to_csv(\"../Datasets/features_playlist.csv\", index=False)\n",
    "playlist_df.to_csv(\"../Datasets/playlist_df.csv\", index=False)\n",
    "features_scaled_df.to_csv(\"../Datasets/features_scales_df.csv\", index=False)"
   ]
  },
  {
   "cell_type": "code",
   "execution_count": null,
   "metadata": {},
   "outputs": [],
   "source": []
  }
 ],
 "metadata": {
  "kernelspec": {
   "display_name": "Python 3",
   "language": "python",
   "name": "python3"
  },
  "language_info": {
   "codemirror_mode": {
    "name": "ipython",
    "version": 3
   },
   "file_extension": ".py",
   "mimetype": "text/x-python",
   "name": "python",
   "nbconvert_exporter": "python",
   "pygments_lexer": "ipython3",
   "version": "3.8.3"
  }
 },
 "nbformat": 4,
 "nbformat_minor": 4
}
