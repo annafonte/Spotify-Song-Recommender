{
 "cells": [
  {
   "cell_type": "markdown",
   "metadata": {},
   "source": [
    "## Importing libraries"
   ]
  },
  {
   "cell_type": "code",
   "execution_count": 3,
   "metadata": {},
   "outputs": [],
   "source": [
    "import json\n",
    "import pandas as pd\n",
    "import spotipy\n",
    "from spotipy.oauth2 import SpotifyClientCredentials\n",
    "from sklearn.preprocessing import StandardScaler\n",
    "from sklearn.cluster import KMeans"
   ]
  },
  {
   "cell_type": "code",
   "execution_count": 4,
   "metadata": {},
   "outputs": [],
   "source": [
    "spotify = spotipy.Spotify(client_credentials_manager=SpotifyClientCredentials(\n",
    "    client_id='id',\n",
    "    client_secret='secret'))"
   ]
  },
  {
   "cell_type": "markdown",
   "metadata": {},
   "source": [
    "## Defining a function for analyzing playlists"
   ]
  },
  {
   "cell_type": "code",
   "execution_count": 5,
   "metadata": {},
   "outputs": [],
   "source": [
    "def playlist_analyzer(user, playlist_id):    \n",
    "    names = []\n",
    "    uris = []\n",
    "    artists = []\n",
    "    popularity = []\n",
    "    danceability = []\n",
    "    energy = []\n",
    "    key = []\n",
    "    loudness = []\n",
    "    mode = []\n",
    "    speechiness = []\n",
    "    acousticness = []\n",
    "    instrumentalness =[]\n",
    "    liveness=[]\n",
    "    valence = []\n",
    "    tempo =[]\n",
    "    duration_ms =[]\n",
    "    time_signature =[]\n",
    "    playlist = spotify.user_playlist_tracks(user=user, playlist_id=playlist_id)\n",
    "    tracks = playlist['items']\n",
    "    \n",
    "    while playlist['next']: # While statement to switch to next page of the playlist\n",
    "        playlist = spotify.next(playlist)\n",
    "        tracks.extend(playlist['items'])\n",
    "   \n",
    "    for item in tracks:\n",
    "        names.append(item[\"track\"][\"name\"])\n",
    "        uri = item[\"track\"][\"uri\"]\n",
    "        uris.append(uri)\n",
    "        popularity.append(item[\"track\"][\"popularity\"])\n",
    "        artists.append([artist[\"name\"] for artist in item[\"track\"][\"artists\"]])\n",
    "        features = spotify.audio_features(uri)[0]\n",
    "        danceability.append(features[\"danceability\"])\n",
    "        energy.append(features[\"energy\"])\n",
    "        key.append(features[\"key\"])\n",
    "        loudness.append(features[\"loudness\"])\n",
    "        mode.append(features[\"mode\"])\n",
    "        speechiness.append(features[\"speechiness\"])\n",
    "        acousticness.append(features[\"acousticness\"])\n",
    "        instrumentalness.append(features[\"instrumentalness\"])\n",
    "        liveness.append(features[\"liveness\"])\n",
    "        valence.append(features[\"valence\"])\n",
    "        tempo.append(features[\"tempo\"])\n",
    "        duration_ms.append(features[\"duration_ms\"])\n",
    "        time_signature.append(features[\"time_signature\"])\n",
    "    \n",
    "    # Creating a df from with the song information\n",
    "    df = pd.DataFrame({\"names\":names, \n",
    "                      \"uri\": uris,\n",
    "                      \"artists\": artists,\n",
    "                      \"popularity\": popularity,\n",
    "                        \"danceability\":danceability,\n",
    "                       \"energy\":energy,\n",
    "                       \"key\": key,\n",
    "                       \"loudness\":loudness,\n",
    "                       \"mode\": mode,\n",
    "                       \"speechiness\":speechiness,\n",
    "                       \"acousticness\":acousticness,\n",
    "                       \"instrumentalness\":instrumentalness,\n",
    "                       \"liveness\": liveness,\n",
    "                       \"valence\":valence,\n",
    "                       \"tempo\": tempo,\n",
    "                       \"duration_ms\":duration_ms,\n",
    "                       \"time_signature\": time_signature})\n",
    "\n",
    "    return df"
   ]
  },
  {
   "cell_type": "markdown",
   "metadata": {},
   "source": [
    "### Getting data from Spotify playlist"
   ]
  },
  {
   "cell_type": "code",
   "execution_count": 6,
   "metadata": {},
   "outputs": [],
   "source": [
    "playlist_df = playlist_analyzer(\"spotify\", \"spotify:playlist:6FKDzNYZ8IW1pvYVF4zUN2\")\n",
    "features_playlist = playlist_df.iloc[:,4:17].copy() #Creating a subset of the df with only the features"
   ]
  },
  {
   "cell_type": "markdown",
   "metadata": {},
   "source": [
    "## Transforming data and creating clusters of the playlist dataframe"
   ]
  },
  {
   "cell_type": "markdown",
   "metadata": {},
   "source": [
    "### StandardScaler transformation"
   ]
  },
  {
   "cell_type": "code",
   "execution_count": 7,
   "metadata": {},
   "outputs": [],
   "source": [
    "# Initialize the model, fit and transform data\n",
    "scaler = StandardScaler()\n",
    "scaler.fit(features_playlist)\n",
    "features_scaled = scaler.transform(features_playlist)\n",
    "features_scaled_df = pd.DataFrame(features_scaled)"
   ]
  },
  {
   "cell_type": "code",
   "execution_count": 8,
   "metadata": {},
   "outputs": [
    {
     "data": {
      "text/html": [
       "<div>\n",
       "<style scoped>\n",
       "    .dataframe tbody tr th:only-of-type {\n",
       "        vertical-align: middle;\n",
       "    }\n",
       "\n",
       "    .dataframe tbody tr th {\n",
       "        vertical-align: top;\n",
       "    }\n",
       "\n",
       "    .dataframe thead th {\n",
       "        text-align: right;\n",
       "    }\n",
       "</style>\n",
       "<table border=\"1\" class=\"dataframe\">\n",
       "  <thead>\n",
       "    <tr style=\"text-align: right;\">\n",
       "      <th></th>\n",
       "      <th>0</th>\n",
       "      <th>1</th>\n",
       "      <th>2</th>\n",
       "      <th>3</th>\n",
       "      <th>4</th>\n",
       "      <th>5</th>\n",
       "      <th>6</th>\n",
       "      <th>7</th>\n",
       "      <th>8</th>\n",
       "      <th>9</th>\n",
       "      <th>10</th>\n",
       "      <th>11</th>\n",
       "      <th>12</th>\n",
       "    </tr>\n",
       "  </thead>\n",
       "  <tbody>\n",
       "    <tr>\n",
       "      <th>0</th>\n",
       "      <td>0.404241</td>\n",
       "      <td>1.165236</td>\n",
       "      <td>0.476421</td>\n",
       "      <td>0.980355</td>\n",
       "      <td>0.765390</td>\n",
       "      <td>0.209791</td>\n",
       "      <td>-0.739022</td>\n",
       "      <td>-0.513813</td>\n",
       "      <td>0.852844</td>\n",
       "      <td>-0.658068</td>\n",
       "      <td>-0.102660</td>\n",
       "      <td>-0.042016</td>\n",
       "      <td>0.150899</td>\n",
       "    </tr>\n",
       "    <tr>\n",
       "      <th>1</th>\n",
       "      <td>0.946610</td>\n",
       "      <td>0.593508</td>\n",
       "      <td>1.307724</td>\n",
       "      <td>0.062216</td>\n",
       "      <td>-1.306523</td>\n",
       "      <td>-0.043335</td>\n",
       "      <td>-0.642256</td>\n",
       "      <td>-0.522759</td>\n",
       "      <td>-0.807031</td>\n",
       "      <td>-0.972301</td>\n",
       "      <td>-0.240997</td>\n",
       "      <td>-0.083179</td>\n",
       "      <td>0.150899</td>\n",
       "    </tr>\n",
       "    <tr>\n",
       "      <th>2</th>\n",
       "      <td>0.688038</td>\n",
       "      <td>0.061552</td>\n",
       "      <td>-1.463286</td>\n",
       "      <td>-0.017824</td>\n",
       "      <td>-1.306523</td>\n",
       "      <td>-0.589928</td>\n",
       "      <td>0.176318</td>\n",
       "      <td>-0.522759</td>\n",
       "      <td>-0.460815</td>\n",
       "      <td>1.501788</td>\n",
       "      <td>0.082191</td>\n",
       "      <td>-0.294754</td>\n",
       "      <td>0.150899</td>\n",
       "    </tr>\n",
       "  </tbody>\n",
       "</table>\n",
       "</div>"
      ],
      "text/plain": [
       "          0         1         2         3         4         5         6  \\\n",
       "0  0.404241  1.165236  0.476421  0.980355  0.765390  0.209791 -0.739022   \n",
       "1  0.946610  0.593508  1.307724  0.062216 -1.306523 -0.043335 -0.642256   \n",
       "2  0.688038  0.061552 -1.463286 -0.017824 -1.306523 -0.589928  0.176318   \n",
       "\n",
       "          7         8         9        10        11        12  \n",
       "0 -0.513813  0.852844 -0.658068 -0.102660 -0.042016  0.150899  \n",
       "1 -0.522759 -0.807031 -0.972301 -0.240997 -0.083179  0.150899  \n",
       "2 -0.522759 -0.460815  1.501788  0.082191 -0.294754  0.150899  "
      ]
     },
     "execution_count": 8,
     "metadata": {},
     "output_type": "execute_result"
    }
   ],
   "source": [
    "features_scaled_df.head(3)"
   ]
  },
  {
   "cell_type": "markdown",
   "metadata": {},
   "source": [
    "### KMeans clustering"
   ]
  },
  {
   "cell_type": "code",
   "execution_count": 41,
   "metadata": {},
   "outputs": [],
   "source": [
    "# Initializing the model, fit and predict clusters\n",
    "kmeans = KMeans()\n",
    "kmeans.fit(features_scaled)\n",
    "clusters = kmeans.predict(features_scaled)\n",
    "playlist_df[\"cluster\"]=clusters"
   ]
  },
  {
   "cell_type": "code",
   "execution_count": 44,
   "metadata": {
    "collapsed": true
   },
   "outputs": [
    {
     "data": {
      "text/plain": [
       "0     7718\n",
       "1    12972\n",
       "2     9893\n",
       "3     5447\n",
       "4     2411\n",
       "5     8816\n",
       "6     6582\n",
       "7     3073\n",
       "dtype: int64"
      ]
     },
     "execution_count": 44,
     "metadata": {},
     "output_type": "execute_result"
    }
   ],
   "source": [
    "# Check the size of the clusters\n",
    "pd.Series(clusters).value_counts().sort_index()"
   ]
  },
  {
   "cell_type": "markdown",
   "metadata": {},
   "source": [
    "## Exporting the dataframes to csv"
   ]
  },
  {
   "cell_type": "code",
   "execution_count": null,
   "metadata": {},
   "outputs": [],
   "source": [
    "features_playlist.to_csv(\"../Datasets/features_playlist.csv\", index=False)\n",
    "playlist_df.to_csv(\"../Datasets/playlist_df.csv\", index=False)\n",
    "features_scaled_df.to_csv(\"../Datasets/features_scales_df.csv\", index=False)"
   ]
  }
 ],
 "metadata": {
  "kernelspec": {
   "display_name": "Python 3",
   "language": "python",
   "name": "python3"
  },
  "language_info": {
   "codemirror_mode": {
    "name": "ipython",
    "version": 3
   },
   "file_extension": ".py",
   "mimetype": "text/x-python",
   "name": "python",
   "nbconvert_exporter": "python",
   "pygments_lexer": "ipython3",
   "version": "3.8.3"
  },
  "toc": {
   "base_numbering": 1,
   "nav_menu": {},
   "number_sections": true,
   "sideBar": true,
   "skip_h1_title": false,
   "title_cell": "Table of Contents",
   "title_sidebar": "Contents",
   "toc_cell": false,
   "toc_position": {},
   "toc_section_display": true,
   "toc_window_display": false
  }
 },
 "nbformat": 4,
 "nbformat_minor": 4
}
